{
 "cells": [
  {
   "cell_type": "code",
   "execution_count": 6,
   "metadata": {},
   "outputs": [],
   "source": [
    "# libraries\n",
    "import pandas as pd\n",
    "import seaborn as sns\n",
    "import numpy as np"
   ]
  },
  {
   "cell_type": "code",
   "execution_count": null,
   "metadata": {},
   "outputs": [
    {
     "name": "stdout",
     "output_type": "stream",
     "text": [
      "   GENDER  BIRTHYEAR  AGE_T1  AGE_T2  AGE_T3  ZIP_CODE  BMI_T1  WEIGHT_T1  \\\n",
      "0       2       1960      52      55      59      9903    21.9       70.0   \n",
      "1       2       1964      48      51      57      8411    20.9       62.0   \n",
      "2       2       1951      58      62      68      9101    24.6       71.0   \n",
      "3       1       1958      54      57      61      9761    25.0       70.5   \n",
      "4       2       1963      45      50      57      9201    24.0       61.0   \n",
      "\n",
      "   HIP_T1  HEIGHT_T1  ...  NSES_YEAR      NSES  NEIGHBOURHOOD1_T2  \\\n",
      "0    91.0      178.5  ...       2010 -0.148238                8.0   \n",
      "1    93.0      172.5  ...       2010  0.357413               10.0   \n",
      "2   104.0      170.0  ...       2010 -1.730366                9.0   \n",
      "3    95.0      169.5  ...       2010  0.106612                8.0   \n",
      "4    95.0      159.8  ...       2006 -1.004381                9.0   \n",
      "\n",
      "   NEIGHBOURHOOD2_T2  NEIGHBOURHOOD3_T2  NEIGHBOURHOOD4_T2  NEIGHBOURHOOD5_T2  \\\n",
      "0                1.0                3.0                5.0                3.0   \n",
      "1                1.0                1.0                1.0                5.0   \n",
      "2                1.0                2.0                2.0                3.0   \n",
      "3                2.0                1.0                1.0                5.0   \n",
      "4                4.0                1.0                1.0                5.0   \n",
      "\n",
      "   NEIGHBOURHOOD6_T2  MENTAL_DISORDER_T1  MENTAL_DISORDER_T2  \n",
      "0                4.0                 0.0                 0.0  \n",
      "1                5.0                 0.0                 0.0  \n",
      "2                4.0                 0.0                 0.0  \n",
      "3                5.0                 0.0                 0.0  \n",
      "4                5.0                 0.0                 0.0  \n",
      "\n",
      "[5 rows x 84 columns]\n"
     ]
    }
   ],
   "source": [
    "# load the data\n",
    "def load_data():\n",
    "    return pd.read_csv('/homes/ieineke/Documents/kwartaal_6/datadashboards/Dataset/betere_namen/Lifelines_Public_Health_dataset_2024.csv')\n",
    "    #return data\n",
    "\n",
    "def print_head_data(data):\n",
    "    print(data.head())\n",
    "\n",
    "# def main():\n",
    "#     data = load_data()\n",
    "#     print_head_data(data)\n",
    "\n",
    "# main()"
   ]
  },
  {
   "cell_type": "code",
   "execution_count": 20,
   "metadata": {},
   "outputs": [],
   "source": [
    "# print limit (not important)\n",
    "\n",
    "def print_limit_test():\n",
    "    # max amount of rows that the system can print (60)\n",
    "    # if there are more lines: only the header, first 5 and last 5 rows will be printed\n",
    "    print(\"Max amount of rows:\", pd.options.display.max_rows)\n",
    "\n",
    "    # allows more lines to be printed (not necessary):\n",
    "    # pd.options.display.max_rows = 9999"
   ]
  },
  {
   "cell_type": "code",
   "execution_count": null,
   "metadata": {},
   "outputs": [],
   "source": [
    "def print_data(data):\n",
    "    data\n",
    "\n",
    "# def main():\n",
    "#     data = load_data()\n",
    "#     print_data(data)\n",
    "\n",
    "# main()"
   ]
  },
  {
   "cell_type": "markdown",
   "metadata": {},
   "source": [
    "Hoe moet je met functies werken in yupiter notebook ??\n",
    "Moet een enkele main helemaal onderaan ?"
   ]
  },
  {
   "cell_type": "code",
   "execution_count": 21,
   "metadata": {},
   "outputs": [
    {
     "name": "stdout",
     "output_type": "stream",
     "text": [
      "   GENDER  BIRTHYEAR  AGE_T1  AGE_T2  AGE_T3  ZIP_CODE  BMI_T1  WEIGHT_T1  \\\n",
      "0       2       1960      52      55      59      9903    21.9       70.0   \n",
      "1       2       1964      48      51      57      8411    20.9       62.0   \n",
      "2       2       1951      58      62      68      9101    24.6       71.0   \n",
      "3       1       1958      54      57      61      9761    25.0       70.5   \n",
      "4       2       1963      45      50      57      9201    24.0       61.0   \n",
      "\n",
      "   HIP_T1  HEIGHT_T1  ...  NSES_YEAR      NSES  NEIGHBOURHOOD1_T2  \\\n",
      "0    91.0      178.5  ...       2010 -0.148238                8.0   \n",
      "1    93.0      172.5  ...       2010  0.357413               10.0   \n",
      "2   104.0      170.0  ...       2010 -1.730366                9.0   \n",
      "3    95.0      169.5  ...       2010  0.106612                8.0   \n",
      "4    95.0      159.8  ...       2006 -1.004381                9.0   \n",
      "\n",
      "   NEIGHBOURHOOD2_T2  NEIGHBOURHOOD3_T2  NEIGHBOURHOOD4_T2  NEIGHBOURHOOD5_T2  \\\n",
      "0                1.0                3.0                5.0                3.0   \n",
      "1                1.0                1.0                1.0                5.0   \n",
      "2                1.0                2.0                2.0                3.0   \n",
      "3                2.0                1.0                1.0                5.0   \n",
      "4                4.0                1.0                1.0                5.0   \n",
      "\n",
      "   NEIGHBOURHOOD6_T2  MENTAL_DISORDER_T1  MENTAL_DISORDER_T2  \n",
      "0                4.0                 0.0                 0.0  \n",
      "1                5.0                 0.0                 0.0  \n",
      "2                4.0                 0.0                 0.0  \n",
      "3                5.0                 0.0                 0.0  \n",
      "4                5.0                 0.0                 0.0  \n",
      "\n",
      "[5 rows x 84 columns]\n",
      "Max amount of rows: 60\n"
     ]
    }
   ],
   "source": [
    "def main():\n",
    "    data = load_data()\n",
    "    print_head_data(data)\n",
    "    print_limit_test()\n",
    "    print_data(data)\n",
    "\n",
    "main()"
   ]
  }
 ],
 "metadata": {
  "kernelspec": {
   "display_name": "lifelines.venv",
   "language": "python",
   "name": "python3"
  },
  "language_info": {
   "codemirror_mode": {
    "name": "ipython",
    "version": 3
   },
   "file_extension": ".py",
   "mimetype": "text/x-python",
   "name": "python",
   "nbconvert_exporter": "python",
   "pygments_lexer": "ipython3",
   "version": "3.11.2"
  }
 },
 "nbformat": 4,
 "nbformat_minor": 2
}
