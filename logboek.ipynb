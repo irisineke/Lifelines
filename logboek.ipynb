{
 "cells": [
  {
   "cell_type": "markdown",
   "metadata": {},
   "source": [
    "### 20 november\n",
    "Download and read data. Clear data (also contains metadata with notebook).\n",
    "\n",
    "### 21 november\n",
    "! vertalen naar engels\n",
    "Het lijkt interessant om te kijken naar de invloed van factoren op depressie. Bijvoorbeeld beweging, slaap kwaliteit of inkomen  (of leeftijd, bmi, etc.). Dat je de factoren kan selecteren die je wilt vergelijken misschien ? Op deze manier kun je kijken wat mensen gelukkiger/ongelukkiger maakt. Met deze informatie kun je concluderen welke factoren je kan verbeteren om vooruitgang te boeken in het welzijn van mensen. \\\n",
    "Maar de vraag is nu hoe we dit gaan visualiseren. \\\n",
    "Of misschien iets doen met verschil tussen T1, T2 en T3 ? \\\n",
    "Nog verder over nadenken de komende dagen.\n",
    "\n",
    "Voor nu eerst data inladen.\n"
   ]
  },
  {
   "cell_type": "code",
   "execution_count": 3,
   "metadata": {},
   "outputs": [
    {
     "name": "stdout",
     "output_type": "stream",
     "text": [
      "   GENDER  BIRTHYEAR  AGE_T1  AGE_T2  AGE_T3  ZIP_CODE  BMI_T1  WEIGHT_T1  \\\n",
      "0       2       1960      52      55      59      9903    21.9       70.0   \n",
      "1       2       1964      48      51      57      8411    20.9       62.0   \n",
      "2       2       1951      58      62      68      9101    24.6       71.0   \n",
      "3       1       1958      54      57      61      9761    25.0       70.5   \n",
      "4       2       1963      45      50      57      9201    24.0       61.0   \n",
      "\n",
      "   HIP_T1  HEIGHT_T1  ...  NSES_YEAR      NSES  NEIGHBOURHOOD1_T2  \\\n",
      "0    91.0      178.5  ...       2010 -0.148238                8.0   \n",
      "1    93.0      172.5  ...       2010  0.357413               10.0   \n",
      "2   104.0      170.0  ...       2010 -1.730366                9.0   \n",
      "3    95.0      169.5  ...       2010  0.106612                8.0   \n",
      "4    95.0      159.8  ...       2006 -1.004381                9.0   \n",
      "\n",
      "   NEIGHBOURHOOD2_T2  NEIGHBOURHOOD3_T2  NEIGHBOURHOOD4_T2  NEIGHBOURHOOD5_T2  \\\n",
      "0                1.0                3.0                5.0                3.0   \n",
      "1                1.0                1.0                1.0                5.0   \n",
      "2                1.0                2.0                2.0                3.0   \n",
      "3                2.0                1.0                1.0                5.0   \n",
      "4                4.0                1.0                1.0                5.0   \n",
      "\n",
      "   NEIGHBOURHOOD6_T2  MENTAL_DISORDER_T1  MENTAL_DISORDER_T2  \n",
      "0                4.0                 0.0                 0.0  \n",
      "1                5.0                 0.0                 0.0  \n",
      "2                4.0                 0.0                 0.0  \n",
      "3                5.0                 0.0                 0.0  \n",
      "4                5.0                 0.0                 0.0  \n",
      "\n",
      "[5 rows x 84 columns]\n"
     ]
    }
   ],
   "source": [
    "# Data inladen\n",
    "import pandas as pd\n",
    "\n",
    "data = pd.read_csv('/homes/ieineke/Documents/kwartaal_6/datadashboards/Dataset/betere_namen/Lifelines_Public_Health_dataset_2024.csv')\n",
    "\n",
    "print(data.head())"
   ]
  },
  {
   "cell_type": "code",
   "execution_count": null,
   "metadata": {},
   "outputs": [
    {
     "data": {
      "text/plain": [
       "60"
      ]
     },
     "execution_count": 5,
     "metadata": {},
     "output_type": "execute_result"
    }
   ],
   "source": [
    "# print limit\n",
    "\n",
    "import pandas as pd\n",
    "\n",
    "# max amount of rows that the system can print (60)\n",
    "# if there are more lines: only the header, first 5 and last 5 rows will be printed\n",
    "pd.options.display.max_rows\n",
    "\n",
    "# allows more lines to be printed (not necessary)\n",
    "# pd.options.display.max_rows = 9999"
   ]
  }
 ],
 "metadata": {
  "kernelspec": {
   "display_name": "lifelines.venv",
   "language": "python",
   "name": "python3"
  },
  "language_info": {
   "codemirror_mode": {
    "name": "ipython",
    "version": 3
   },
   "file_extension": ".py",
   "mimetype": "text/x-python",
   "name": "python",
   "nbconvert_exporter": "python",
   "pygments_lexer": "ipython3",
   "version": "3.11.2"
  }
 },
 "nbformat": 4,
 "nbformat_minor": 2
}
